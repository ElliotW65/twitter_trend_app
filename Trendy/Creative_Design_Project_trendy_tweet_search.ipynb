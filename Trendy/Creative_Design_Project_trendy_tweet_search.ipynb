{
 "cells": [
  {
   "cell_type": "code",
   "execution_count": 8,
   "metadata": {},
   "outputs": [],
   "source": [
    "import tweepy\n",
    "from collections import Counter\n",
    "import json\n",
    "from geopy.geocoders import Nominatim"
   ]
  },
  {
   "cell_type": "code",
   "execution_count": 9,
   "metadata": {},
   "outputs": [],
   "source": [
    "access_key  = '1366440159273713671-oANva7ClFbovtPGkXae5I4wCxaxrie'\n",
    "access_secret = 'v4DJH6xvNs6mZhsmaw9manqRXOC8EccPMyZUF0ET0QzMV'\n",
    "consumer_key = 'wRpataioBhMHrhFFFOXUP1Z1N'\n",
    "consumer_secret = '0Yb7mVt2ssVseh2GjcPhPbempSo5zv7dxJyxmhYcTFEM9YFOeT'\n",
    "\n",
    "auth = tweepy.OAuthHandler(consumer_key, consumer_secret)\n",
    "auth.set_access_token(access_key, access_secret)\n",
    "api = tweepy.API(auth, wait_on_rate_limit=True)"
   ]
  },
  {
   "cell_type": "code",
   "execution_count": 126,
   "metadata": {},
   "outputs": [],
   "source": [
    "hashtag_list = []\n",
    "\n",
    "def hashtags_from_tweets(s):\n",
    "    hashtag_list.clear()\n",
    "    for i in s:\n",
    "        hashtag_list.extend(word for word in i.split() if word.startswith('#'))\n",
    "    return hashtag_list"
   ]
  },
  {
   "cell_type": "code",
   "execution_count": 127,
   "metadata": {},
   "outputs": [],
   "source": [
    "def most_common_hashtags(t):\n",
    "    for x in t:\n",
    "        top_five_hashtags = Counter(t).most_common(5)\n",
    "    return top_five_hashtags"
   ]
  },
  {
   "cell_type": "code",
   "execution_count": 128,
   "metadata": {},
   "outputs": [],
   "source": [
    "def tweets_from_coordinates(x, y):\n",
    "    tweet_geocode = str(x) + \",\" + str(y) + \",1km\"\n",
    "    return api.search(geocode=tweet_geocode, count = 1000, tweet_mode = 'extended')"
   ]
  },
  {
   "cell_type": "code",
   "execution_count": 129,
   "metadata": {},
   "outputs": [],
   "source": [
    "geolocator = Nominatim(user_agent = \"trendy\")\n",
    "\n",
    "def coordinates_from_location(x):\n",
    "    location = geolocator.geocode(x)\n",
    "    return location.latitude, location.longitude\n",
    "    "
   ]
  },
  {
   "cell_type": "code",
   "execution_count": 130,
   "metadata": {},
   "outputs": [
    {
     "name": "stdout",
     "output_type": "stream",
     "text": [
      "(40.7127281, -74.0060152)\n"
     ]
    }
   ],
   "source": [
    "print(coordinates_from_location(\"New York\"))"
   ]
  },
  {
   "cell_type": "code",
   "execution_count": 131,
   "metadata": {},
   "outputs": [],
   "source": [
    "tweets_test = tweets_from_coordinates(coordinates_from_location(\"Edinburgh\")[0],coordinates_from_location(\"Edinburgh\")[1])"
   ]
  },
  {
   "cell_type": "code",
   "execution_count": 119,
   "metadata": {},
   "outputs": [],
   "source": [
    "tweet_text_list = []\n",
    "\n",
    "def tweets_text_list(x):\n",
    "    tweet_text_list.clear()\n",
    "    for i in x:\n",
    "        tweet_text_list.append(str(i.full_text))\n",
    "    return tweet_text_list"
   ]
  },
  {
   "cell_type": "code",
   "execution_count": 121,
   "metadata": {},
   "outputs": [
    {
     "name": "stdout",
     "output_type": "stream",
     "text": [
      "['#ham', '#hamr', '#amateurr', '#amateurradio', '#NewYork,', '#IT', '#NewYork,', '#internship', '#tuesdayvibe', '#WhyIDontTakeSelfies', '#tattoo', '#tattoos', '#tattooed', '#tattooedgirls', '#girlswithtattoos', '#evantattoo', '#nyc', '#tattooartist', '#DharmaYogaWheel', '#yoga', '#yogawheel', '#wheelyoga', '#dharmawheel', '#fit', '#fitness', '#workout', '#stretch', '#PoliceBrutality', '#police', '#nypd', '#ncpd', '#wordsofwisdom', '#Marketing', '#TheEmpireState', '#Sales', '#TheEmpireState', '#psychiatry', '#NewYork,', '#behumble', '#knowyourworth', '#DreamBig💫', '#askforwhatyouwant💫', '#askanditisgiven🙏', '#DreamBig✨', '#ForTheCulture', '#PELLST', '#Legal', '#NewYork,', '#scientist', '#TheEmpireState', '#NewYork,', '#IT', '#STJOHNSLN', '#Nonprofit', '#NewYork,', '#stpatricksday', '#djfamousnyc', '#twitch.tv', '#popup', '#famousflavaradiolive🚨🚨', '#GeneralScience', '#NYC', '#NewYork,', '#FacilitiesMgmt', '#BROADWAY', '#nationalwomensmonth', '#womensdayeveryday', '#womenruletheworld', '#womenaretherealarchitectsofsociety', '#womenaretrueleaders', '#anxietydoesntdefineyou', '#youcandoit', '#improudofyou', '#youareworthy', '#youareenough', '#Google', '#NewYorkCity', '#NewYork,', '#Database', '#followgeorge', '#εθιμα', '#κοσμος', '#Marketing', '#NYNY', '#getgloing', '#1Line', '#1Line', '#nyc', '#newyork', '#newyorkcity', '#blackandwhite', '#blackandwhitephotography', '#digital', '#graffiti', '#snow', '#bunnies', '#alexeikuznietsov', '#music', '#voice', '#tenor', '#concert', '#operasingersofinstagram', '#operasinger', '#tuesdaymotivations', '#meme', '#memes', '#memestagram', '#memesofinstagram', '#thesuperppodcast', '#podcast', '#hiphop', '#rap', '#twitter', '#knowledge', '#quotes', '#quotestagram', '#quotesofinstagram', '#tercafeira', '#tuesday', '#nyc', '#polopirata', '#polopirate', '#Superpower', '#IamLatina', '#hispanicstar', '#NewYork,', '#grilledchicken', '#carving', '#yummy', '#lunchtime', '#indoordining', '#TheEmpireState', '#TheBigApple', '#lockdownlife', '#oneyearago', '#amillionyearsago', '#onwardsandupwards', '#Engineering', '#TheEmpireState', '#Marketing', '#TheEmpireState', '#evioxoxo', '#glamierrexoxo', '#beautycropxoxo', '#tulaxoxo', '#wanderxoxo', '#NewYork,', '#Pediatrics', '#NewYork,', '#Accounting', '#JSPO']\n"
     ]
    }
   ],
   "source": [
    "hashtags_from_tweets(tweets_text_list(tweets_from_coordinates(40.7127281, -74.0060152)))\n",
    "print(hashtag_list)"
   ]
  },
  {
   "cell_type": "code",
   "execution_count": 39,
   "metadata": {},
   "outputs": [
    {
     "name": "stdout",
     "output_type": "stream",
     "text": [
      "[('#Edinburgh', 24), ('#UnitedKingdom', 14), ('#free', 13), ('#foodwaste', 11), ('#statistics', 8)]\n"
     ]
    }
   ],
   "source": [
    "print(most_common_hashtags(hashtag_list))"
   ]
  },
  {
   "cell_type": "code",
   "execution_count": 40,
   "metadata": {},
   "outputs": [],
   "source": [
    "tweet_testing_example = ['#Edinburgh', '#UnitedKingdom', '#foodwaste', '#free', '#Edinburgh', '#Sales', '#statistics',\n",
    "                         '#Edinburgh', '#Edinburgh.', '#Healthcare', '#Edinburgh!', '#Healthcare', '#statistics',\n",
    "                         '#Edinburgh', '#Edinburgh', '#UnitedKingdom', '#foodwaste', '#free', '#Edinburgh', '#UnitedKingdom',\n",
    "                         '#foodwaste', '#free', '#Edinburgh', '#UnitedKingdom', '#foodwaste', '#free', '#Edinburgh',\n",
    "                         '#UnitedKingdom', '#foodwaste', '#free', '#Retail', '#GeneralScience', '#statistics', '#Healthcare',\n",
    "                         '#Edinburgh', '#Sales', '#Edinburgh', '#Edinburgh?', '#Healthcare', '#statistics', '#Edinburgh',\n",
    "                         '#clinical', '#Edinburgh', '#Retail', '#statistics', '#Edinburgh', '#smallbusinessowner',\n",
    "                         '#smallbusinessuk', '#glutenfreefood', '#foodlover😍', '#glutenfreefood', '#onlineorders',\n",
    "                         '#Edinburgh.', '#clinical', '#SCOIRE', '#statistics', '#Edinburgh', '#smallbusinessowner',\n",
    "                         '#mothersday', '#glutenfreefoods', '#foodlovers', '#Retail', '#ClassicOrganicCotton', '#fachadas',\n",
    "                         '#edimburgueando', '#statistics', '#Edinburgh', '#descansodominical', '#Edinburgh', '#UnitedKingdom',\n",
    "                         '#foodwaste', '#free', '#Edinburgh', '#UnitedKingdom', '#foodwaste', '#free', '#sayhername',\n",
    "                         '#saraheverard', '#reclaimthenight', '#reclaimthestreets', '#Edinburgh', '#UnitedKingdom',\n",
    "                         '#foodwaste', '#free', '#ReclaimTheseStreets', '#LNER', '#oldedinburgh', '#edinburgholdtown',\n",
    "                         '#caltonhill', '#edinphoto', '#foreveredinburgh', '#artdeco', '#Edinburgh.', '#Sales', '#Edinburgh',\n",
    "                         '#UnitedKingdom', '#foodwaste', '#free', '#live', '#naptime😴', '#Retail', '#weekendtime',\n",
    "                         '#sobremesa', '#lockdown', '#19crimeswine', '#saturdaymood', '#seeingusthroughlockdown', '#weekend',\n",
    "                         '#statistics', '#Edinburgh', '#Edinburgh', '#UnitedKingdom', '#foodwaste', '#free', '#Edinburgh,',\n",
    "                         '#Healthcare', '#InstaPlaces', '#InstaMomments', '#InstaFollow', '#InstaPic', '#InstaPics',\n",
    "                         '#InstaPicture', '#InstaPictures', '#InstaPhoto', '#InstaPhotos', '#InstaTravel', '#ReinoUnido',\n",
    "                         '#UnitedKingdom', '#Escocia', '#Scotland', '#Edinburgh', '#UnitedKingdom', '#zerowaste', '#free',\n",
    "                         '#Edinburgh', '#UnitedKingdom', '#foodwaste', '#free', '#SkilledTrade', '#Edinburgh,', '#Edinburgh',\n",
    "                         '#UnitedKingdom', '#zerowaste', '#free']"
   ]
  },
  {
   "cell_type": "code",
   "execution_count": 42,
   "metadata": {},
   "outputs": [
    {
     "name": "stdout",
     "output_type": "stream",
     "text": [
      "[('#Edinburgh', 24), ('#UnitedKingdom', 14), ('#free', 13), ('#foodwaste', 11), ('#statistics', 8)]\n"
     ]
    }
   ],
   "source": [
    "top_five_edinburgh_hashtags = most_common_hashtags(tweet_testing_example)\n",
    "print(top_five_edinburgh_hashtags)"
   ]
  },
  {
   "cell_type": "code",
   "execution_count": 104,
   "metadata": {},
   "outputs": [],
   "source": [
    "def hashtag_percentages(x):\n",
    "    total_tweets = 0\n",
    "    top_hashtag_percentages = []\n",
    "    for i in x:\n",
    "        total_tweets += i[1]\n",
    "    for i in x:\n",
    "        top_hashtag_percentages.extend((i[0],(round(i[1]/total_tweets,4)*100)))\n",
    "    return top_hashtag_percentages"
   ]
  },
  {
   "cell_type": "code",
   "execution_count": 105,
   "metadata": {},
   "outputs": [
    {
     "name": "stdout",
     "output_type": "stream",
     "text": [
      "['#Edinburgh', 34.29, '#UnitedKingdom', 20.0, '#free', 18.57, '#foodwaste', 15.709999999999999, '#statistics', 11.43]\n"
     ]
    }
   ],
   "source": [
    "print(hashtag_percentages(top_five_edinburgh_hashtags))"
   ]
  },
  {
   "cell_type": "code",
   "execution_count": 98,
   "metadata": {},
   "outputs": [
    {
     "name": "stdout",
     "output_type": "stream",
     "text": [
      "24\n"
     ]
    }
   ],
   "source": [
    "print(top_five_edinburgh_hashtags[0][1])"
   ]
  },
  {
   "cell_type": "code",
   "execution_count": 134,
   "metadata": {},
   "outputs": [],
   "source": [
    "def top_five_hashtags(location = 'Default', x = 'Default', y = 'Default'):\n",
    "    if location == 'Default':\n",
    "        coord_hashtags = most_common_hashtags(hashtags_from_tweets(tweets_text_list(tweets_from_coordinates(x, y))))\n",
    "        percent_hashtags = hashtag_percentages(coord_hashtags)\n",
    "        return coord_hashtags, percent_hashtags\n",
    "    elif x == 'Default' or y == 'Default':\n",
    "        x = coordinates_from_location(location)[0]\n",
    "        y = coordinates_from_location(location)[1]\n",
    "        coord_hashtags = most_common_hashtags(hashtags_from_tweets(tweets_text_list(tweets_from_coordinates(x, y))))\n",
    "        percent_hashtags = hashtag_percentages(coord_hashtags)\n",
    "        return coord_hashtags, percent_hashtags"
   ]
  },
  {
   "cell_type": "code",
   "execution_count": 135,
   "metadata": {},
   "outputs": [
    {
     "name": "stdout",
     "output_type": "stream",
     "text": [
      "([('#NewYork,', 11), ('#TheEmpireState', 6), ('#nyc', 3), ('#Marketing', 3), ('#IT', 2)], ['#NewYork,', 44.0, '#TheEmpireState', 24.0, '#nyc', 12.0, '#Marketing', 12.0, '#IT', 8.0])\n"
     ]
    }
   ],
   "source": [
    "print(top_five_hashtags(x = 40.7127281,y = -74.0060152))"
   ]
  },
  {
   "cell_type": "code",
   "execution_count": 136,
   "metadata": {},
   "outputs": [
    {
     "name": "stdout",
     "output_type": "stream",
     "text": [
      "([('#NewYork,', 11), ('#TheEmpireState', 6), ('#nyc', 3), ('#Marketing', 3), ('#IT', 2)], ['#NewYork,', 44.0, '#TheEmpireState', 24.0, '#nyc', 12.0, '#Marketing', 12.0, '#IT', 8.0])\n"
     ]
    }
   ],
   "source": [
    "print(top_five_hashtags(location = \"New York\"))"
   ]
  },
  {
   "cell_type": "code",
   "execution_count": null,
   "metadata": {},
   "outputs": [],
   "source": []
  }
 ],
 "metadata": {
  "kernelspec": {
   "display_name": "Python 3",
   "language": "python",
   "name": "python3"
  },
  "language_info": {
   "codemirror_mode": {
    "name": "ipython",
    "version": 3
   },
   "file_extension": ".py",
   "mimetype": "text/x-python",
   "name": "python",
   "nbconvert_exporter": "python",
   "pygments_lexer": "ipython3",
   "version": "3.7.6"
  }
 },
 "nbformat": 4,
 "nbformat_minor": 4
}
